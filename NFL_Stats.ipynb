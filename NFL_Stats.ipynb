{
 "cells": [
  {
   "cell_type": "markdown",
   "metadata": {},
   "source": [
    "How to test for momentum change in NFL football using a ten year period of data from 2002 to 2012."
   ]
  },
  {
   "cell_type": "markdown",
   "metadata": {},
   "source": [
    "First, consolidate data from Advanced Football Analytics Play-By-Play Data by Brian Burke."
   ]
  },
  {
   "cell_type": "markdown",
   "metadata": {},
   "source": [
    "In the process of creating this dataframe, I added two columns in Access that would help out with the data crunching.  A) I added a column that simply provided the yards gained IF it was a third down, B) I added another column to immediately trigger \"Succes\" if there was either more yards gained than needed for the 3rd down OR a touchdown/field goal was made. In the later cases (although there are NOT many field goals attempted on 3rd down) the 3rd down was considered a success in my dataframe."
   ]
  },
  {
   "cell_type": "code",
   "execution_count": 4,
   "metadata": {
    "collapsed": true
   },
   "outputs": [],
   "source": [
    "import pandas as pd\n",
    "import numpy as np\n",
    "from scipy import stats\n",
    "import requests\n",
    "import csv\n",
    "\n",
    "%matplotlib inline\n",
    "import seaborn as sns"
   ]
  },
  {
   "cell_type": "code",
   "execution_count": 5,
   "metadata": {},
   "outputs": [
    {
     "name": "stdout",
     "output_type": "stream",
     "text": [
      "gameid             object\n",
      "qtr                 int64\n",
      "min               float64\n",
      "sec               float64\n",
      "off                object\n",
      "def                object\n",
      "down              float64\n",
      "togo              float64\n",
      "ydline            float64\n",
      "description        object\n",
      "3rd Down Yards     object\n",
      "Successful_3rd     object\n",
      "offscore          float64\n",
      "defscore          float64\n",
      "season            float64\n",
      "dtype: object\n",
      "              gameid  qtr   min   sec  off  def  down  togo  ydline  \\\n",
      "0   20120905_DAL@NYG    1  51.0  43.0  NYG  DAL   2.0   8.0    29.0   \n",
      "1   20120905_DAL@NYG    1  51.0  33.0  DAL  NYG   1.0  10.0    66.0   \n",
      "2   20120905_DAL@NYG    1  50.0  54.0  DAL  NYG   2.0   8.0    64.0   \n",
      "3   20120905_DAL@NYG    1  50.0  39.0  DAL  NYG   2.0  13.0    69.0   \n",
      "4   20120905_DAL@NYG    1  50.0   1.0  DAL  NYG   3.0   4.0    60.0   \n",
      "5   20120905_DAL@NYG    1  49.0  26.0  DAL  NYG   1.0  10.0    46.0   \n",
      "6   20120905_DAL@NYG    1  49.0   9.0  DAL  NYG   1.0  15.0    51.0   \n",
      "7   20120905_DAL@NYG    1  48.0  22.0  DAL  NYG   2.0  10.0    46.0   \n",
      "8   20120905_DAL@NYG    1  48.0  13.0  DAL  NYG   3.0  10.0    46.0   \n",
      "9   20120905_DAL@NYG    1  47.0  46.0  DAL  NYG   4.0   1.0    37.0   \n",
      "10  20120905_DAL@NYG    1  47.0  12.0  NYG  DAL   1.0  10.0    63.0   \n",
      "11  20120905_DAL@NYG    1  46.0  35.0  NYG  DAL   1.0  10.0    53.0   \n",
      "12  20120905_DAL@NYG    1  45.0  58.0  NYG  DAL   2.0   7.0    50.0   \n",
      "13  20120905_DAL@NYG    1  45.0  21.0  NYG  DAL   3.0   2.0    45.0   \n",
      "14  20120905_DAL@NYG    2  45.0   0.0  NYG  DAL   1.0  10.0    41.0   \n",
      "15  20120905_DAL@NYG    2  44.0  30.0  NYG  DAL   2.0  25.0    56.0   \n",
      "16  20120905_DAL@NYG    2  43.0  46.0  NYG  DAL   3.0  14.0    45.0   \n",
      "17  20120905_DAL@NYG    2  43.0  36.0  NYG  DAL   4.0  14.0    45.0   \n",
      "18  20120905_DAL@NYG    2  43.0  27.0  DAL  NYG   1.0  10.0    80.0   \n",
      "19  20120905_DAL@NYG    2  42.0  41.0  DAL  NYG   1.0  10.0    62.0   \n",
      "20  20120905_DAL@NYG    2  41.0  57.0  DAL  NYG   2.0  11.0    63.0   \n",
      "21  20120905_DAL@NYG    2  41.0  10.0  DAL  NYG   3.0   3.0    55.0   \n",
      "22  20120905_DAL@NYG    2  40.0  46.0  DAL  NYG   3.0   8.0    60.0   \n",
      "23  20120905_DAL@NYG    2  40.0  30.0  NYG  DAL   1.0   1.0     1.0   \n",
      "24  20120905_DAL@NYG    2  40.0   5.0  NYG  DAL   2.0   3.0     3.0   \n",
      "25  20120905_DAL@NYG    2  39.0  23.0  NYG  DAL   3.0   4.0     4.0   \n",
      "26  20120905_DAL@NYG    2  39.0  14.0  NYG  DAL   4.0   4.0     4.0   \n",
      "27  20120905_DAL@NYG    2  39.0  14.0  NYG  DAL   NaN   NaN     4.0   \n",
      "28  20120905_DAL@NYG    2  39.0   5.0  DAL  NYG   1.0  10.0    80.0   \n",
      "29  20120905_DAL@NYG    2  38.0  33.0  DAL  NYG   2.0   8.0    78.0   \n",
      "30  20120905_DAL@NYG    2  37.0  59.0  DAL  NYG   1.0  10.0    68.0   \n",
      "31  20120905_DAL@NYG    2  37.0  20.0  DAL  NYG   2.0   7.0    65.0   \n",
      "\n",
      "                                          description  \\\n",
      "0   (6:43) D.Wilson left end to DAL 27 for 2 yards...   \n",
      "1   (6:33) D.Murray left tackle to DAL 36 for 2 ya...   \n",
      "2   (5:54) (Shotgun) PENALTY on DAL-T.Smith False ...   \n",
      "3   (5:39) (Shotgun) T.Romo pass short middle to M...   \n",
      "4   (5:01) (Shotgun) T.Romo pass short right to K....   \n",
      "5   (4:26) PENALTY on DAL-J.Witten False Start 5 y...   \n",
      "6   (4:09) D.Murray left guard to NYG 46 for 5 yar...   \n",
      "7   (3:22) (Shotgun) T.Romo pass incomplete deep l...   \n",
      "8   (3:13) (Shotgun) T.Romo pass short left to K.O...   \n",
      "9   (2:46) L.Vickers left guard to NYG 37 for no g...   \n",
      "10  (2:12) E.Manning pass short right to H.Nicks t...   \n",
      "11  (1:35) A.Bradshaw left end to 50 for 3 yards (...   \n",
      "12  (:58) A.Bradshaw right guard to DAL 45 for 5 y...   \n",
      "13  (:21) (Shotgun) E.Manning pass short right to ...   \n",
      "14  (15:00) E.Manning sacked at NYG 44 for -15 yar...   \n",
      "15  (14:30) (Shotgun) E.Manning pass short middle ...   \n",
      "16  (13:46) (Shotgun) E.Manning pass incomplete sh...   \n",
      "17  (13:36) S.Weatherford punts 45 yards to end zo...   \n",
      "18  (13:27) T.Romo pass short middle to D.Bryant t...   \n",
      "19  (12:41) D.Murray right end to DAL 37 for -1 ya...   \n",
      "20  (11:57) T.Romo up the middle to DAL 45 for 8 y...   \n",
      "21  (11:10) (Shotgun) PENALTY on DAL-T.Romo Delay ...   \n",
      "22  (10:46) (Shotgun) T.Romo pass short middle int...   \n",
      "23  (10:30) A.Bradshaw right end pushed ob at DAL ...   \n",
      "24  (10:05) A.Bradshaw left tackle to DAL 4 for -1...   \n",
      "25  (9:23) (Shotgun) E.Manning pass incomplete sho...   \n",
      "26  (9:14) L.Tynes 22 yard field goal is GOOD Cent...   \n",
      "27  L.Tynes kicks 67 yards from NYG 35 to DAL -2. ...   \n",
      "28  (9:05) D.Murray right tackle to DAL 22 for 2 y...   \n",
      "29  (8:33) T.Romo pass short left to J.Hanna to DA...   \n",
      "30  (7:59) D.Murray right tackle to DAL 35 for 3 y...   \n",
      "31  (7:20) PENALTY on DAL-D.Free False Start 5 yar...   \n",
      "\n",
      "                           3rd Down Yards  Successful_3rd  offscore  defscore  \\\n",
      "0                            Not 3rd Down  NA OR No Yards       0.0       0.0   \n",
      "1                            Not 3rd Down  NA OR No Yards       0.0       0.0   \n",
      "2                            Not 3rd Down  NA OR No Yards       0.0       0.0   \n",
      "3                            Not 3rd Down  NA OR No Yards       0.0       0.0   \n",
      "4                                      14         Success       0.0       0.0   \n",
      "5                            Not 3rd Down  NA OR No Yards       0.0       0.0   \n",
      "6                            Not 3rd Down  NA OR No Yards       0.0       0.0   \n",
      "7                            Not 3rd Down  NA OR No Yards       0.0       0.0   \n",
      "8                                       9            NoGo       0.0       0.0   \n",
      "9                            Not 3rd Down  NA OR No Yards       0.0       0.0   \n",
      "10                           Not 3rd Down  NA OR No Yards       0.0       0.0   \n",
      "11                           Not 3rd Down  NA OR No Yards       0.0       0.0   \n",
      "12                           Not 3rd Down  NA OR No Yards       0.0       0.0   \n",
      "13                                      4         Success       0.0       0.0   \n",
      "14                           Not 3rd Down  NA OR No Yards       0.0       0.0   \n",
      "15                           Not 3rd Down  NA OR No Yards       0.0       0.0   \n",
      "16  Incomplete/Intercepted Pass OR fumble  NA OR No Yards       0.0       0.0   \n",
      "17                           Not 3rd Down  NA OR No Yards       0.0       0.0   \n",
      "18                           Not 3rd Down  NA OR No Yards       0.0       0.0   \n",
      "19                           Not 3rd Down  NA OR No Yards       0.0       0.0   \n",
      "20                           Not 3rd Down  NA OR No Yards       0.0       0.0   \n",
      "21                                      5         Success       0.0       0.0   \n",
      "22                                     51         Success       0.0       0.0   \n",
      "23                           Not 3rd Down  NA OR No Yards       0.0       0.0   \n",
      "24                           Not 3rd Down  NA OR No Yards       0.0       0.0   \n",
      "25  Incomplete/Intercepted Pass OR fumble  NA OR No Yards       0.0       0.0   \n",
      "26                           Not 3rd Down  NA OR No Yards       0.0       0.0   \n",
      "27                           Not 3rd Down  NA OR No Yards       3.0       0.0   \n",
      "28                           Not 3rd Down  NA OR No Yards       0.0       3.0   \n",
      "29                           Not 3rd Down  NA OR No Yards       0.0       3.0   \n",
      "30                           Not 3rd Down  NA OR No Yards       0.0       3.0   \n",
      "31                           Not 3rd Down  NA OR No Yards       0.0       3.0   \n",
      "\n",
      "    season  \n",
      "0   2012.0  \n",
      "1   2012.0  \n",
      "2   2012.0  \n",
      "3   2012.0  \n",
      "4   2012.0  \n",
      "5   2012.0  \n",
      "6   2012.0  \n",
      "7   2012.0  \n",
      "8   2012.0  \n",
      "9   2012.0  \n",
      "10  2012.0  \n",
      "11  2012.0  \n",
      "12  2012.0  \n",
      "13  2012.0  \n",
      "14  2012.0  \n",
      "15  2012.0  \n",
      "16  2012.0  \n",
      "17  2012.0  \n",
      "18  2012.0  \n",
      "19  2012.0  \n",
      "20  2012.0  \n",
      "21  2012.0  \n",
      "22  2012.0  \n",
      "23  2012.0  \n",
      "24  2012.0  \n",
      "25  2012.0  \n",
      "26  2012.0  \n",
      "27  2012.0  \n",
      "28  2012.0  \n",
      "29  2012.0  \n",
      "30  2012.0  \n",
      "31  2012.0  \n",
      "(473899, 15)\n"
     ]
    },
    {
     "name": "stderr",
     "output_type": "stream",
     "text": [
      "C:\\Users\\mlybeer\\AppData\\Local\\Continuum\\anaconda2\\lib\\site-packages\\IPython\\core\\interactiveshell.py:2718: DtypeWarning: Columns (10,11) have mixed types. Specify dtype option on import or set low_memory=False.\n",
      "  interactivity=interactivity, compiler=compiler, result=result)\n"
     ]
    }
   ],
   "source": [
    "NFLDataFrame = pd.read_csv(\"../data/2002_2012_nfl_pbp_data.csv\")\n",
    "print NFLDataFrame.dtypes\n",
    "print NFLDataFrame.head(32)\n",
    "print NFLDataFrame.shape"
   ]
  },
  {
   "cell_type": "code",
   "execution_count": 6,
   "metadata": {
    "collapsed": true
   },
   "outputs": [],
   "source": [
    "NFL_DataFrame = NFLDataFrame.dropna()"
   ]
  },
  {
   "cell_type": "markdown",
   "metadata": {},
   "source": [
    "Now, I need to add up all the \"Successful\" 3rd downs, per 'gameid' - per offense - per quarter."
   ]
  },
  {
   "cell_type": "code",
   "execution_count": 7,
   "metadata": {},
   "outputs": [
    {
     "name": "stdout",
     "output_type": "stream",
     "text": [
      "389985\n"
     ]
    }
   ],
   "source": [
    "GameCount = NFL_DataFrame.gameid.count()\n",
    "print GameCount\n",
    "#This is the amount of records in the DFrame now - without the BLANKS in the core csv file evidently."
   ]
  },
  {
   "cell_type": "code",
   "execution_count": 8,
   "metadata": {},
   "outputs": [
    {
     "name": "stdout",
     "output_type": "stream",
     "text": [
      "['Success']\n"
     ]
    }
   ],
   "source": [
    "datamask = NFL_DataFrame.Successful_3rd == \"Success\"\n",
    "\n",
    "ONLY_SUCC = NFL_DataFrame[datamask]\n",
    "x = ONLY_SUCC.Successful_3rd.unique()\n",
    "print x \n",
    "#ONLY_SUCC.head(15)\n"
   ]
  },
  {
   "cell_type": "code",
   "execution_count": 9,
   "metadata": {},
   "outputs": [
    {
     "name": "stdout",
     "output_type": "stream",
     "text": [
      "gameid            off  qtr\n",
      "20020905_SF@NYG   NYG  1      1\n",
      "                       2      4\n",
      "                       3      1\n",
      "                       4      4\n",
      "                  SF   1      1\n",
      "                       2      2\n",
      "                       3      1\n",
      "20020908_ARI@WAS  ARI  1      2\n",
      "                       2      1\n",
      "                       3      2\n",
      "                  WAS  1      3\n",
      "                       2      2\n",
      "                       3      1\n",
      "                       4      2\n",
      "20020908_ATL@GB   ATL  2      1\n",
      "                       3      3\n",
      "                       4      1\n",
      "                  GB   1      2\n",
      "                       2      4\n",
      "                       3      1\n",
      "20020908_BAL@CAR  BAL  1      1\n",
      "                       2      1\n",
      "                       3      2\n",
      "                       4      2\n",
      "                  CAR  1      3\n",
      "                       2      3\n",
      "                       4      2\n",
      "20020908_DAL@HOU  DAL  2      1\n",
      "                       3      1\n",
      "                  HOU  1      1\n",
      "                             ..\n",
      "20130113_HOU@NE   HOU  4      2\n",
      "                  NE   2      3\n",
      "                       3      1\n",
      "                       4      3\n",
      "20130113_SEA@ATL  ATL  1      3\n",
      "                       2      3\n",
      "                       3      2\n",
      "                  SEA  2      1\n",
      "                       3      1\n",
      "                       4      1\n",
      "20130120_BAL@NE   BAL  2      1\n",
      "                       3      2\n",
      "                       4      2\n",
      "                  NE   1      2\n",
      "                       2      1\n",
      "                       3      1\n",
      "                       4      3\n",
      "20130120_SF@ATL   ATL  1      2\n",
      "                       3      1\n",
      "                       4      2\n",
      "                  SF   1      1\n",
      "                       2      2\n",
      "                       3      1\n",
      "                       4      1\n",
      "20130203_BAL@SF   BAL  1      3\n",
      "                       2      3\n",
      "                       3      2\n",
      "                       4      2\n",
      "                  SF   1      2\n",
      "                       3      1\n",
      "Name: Successful_3rd, Length: 15930, dtype: int64\n"
     ]
    }
   ],
   "source": [
    "ByQtr_success = ONLY_SUCC.groupby([\"gameid\",\"off\",\"qtr\"]).Successful_3rd.count()\n",
    "print ByQtr_success"
   ]
  },
  {
   "cell_type": "markdown",
   "metadata": {},
   "source": [
    "OK, I will need to incorporate a Pivot Table with the use of an unstack() flavor.  I went to the StackOverflow website and asked the question AFTER creating an account. MLybeer **** BeastMode@24 **** everything is attached to my Gmail account. . . mlybeer1@gmail.com"
   ]
  },
  {
   "cell_type": "code",
   "execution_count": 34,
   "metadata": {},
   "outputs": [
    {
     "name": "stdout",
     "output_type": "stream",
     "text": [
      "                     Successful_3rd                             \n",
      "qtr                           First Second Third Fourth Overtime\n",
      "gameid           off                                            \n",
      "20020905_SF@NYG  NYG              1      4     1      4        0\n",
      "                 SF               1      2     1      0        0\n",
      "20020908_ARI@WAS ARI              2      1     2      0        0\n",
      "                 WAS              3      2     1      2        0\n",
      "20020908_ATL@GB  ATL              0      1     3      1        0\n",
      "                 GB               2      4     1      0        0\n",
      "20020908_BAL@CAR BAL              1      1     2      2        0\n",
      "                 CAR              3      3     0      2        0\n",
      "20020908_DAL@HOU DAL              0      1     1      0        0\n",
      "                 HOU              1      0     1      1        0\n",
      "20020908_DET@MIA DET              1      2     2      3        0\n",
      "                 MIA              1      2     1      1        0\n",
      "20020908_IND@JAC IND              4      1     3      2        0\n",
      "                 JAC              3      2     1      2        0\n",
      "20020908_KC@CLE  CLE              1      0     2      1        0\n",
      "                 KC               4      2     1      0        0\n",
      "20020908_MIN@CHI CHI              1      1     2      2        0\n",
      "                 MIN              3      1     1      2        0\n",
      "20020908_NO@TB   NO               4      2     3      0        1\n",
      "                 TB               0      1     0      5        1\n",
      "20020908_NYJ@BUF BUF              2      4     0      2        0\n",
      "                 NYJ              0      2     1      0        0\n",
      "20020908_PHI@TEN PHI              0      3     2      2        0\n",
      "                 TEN              1      0     1      2        0\n",
      "20020908_SD@CIN  CIN              0      1     2      3        0\n",
      "                 SD               2      1     2      1        0\n",
      "20020908_SEA@OAK OAK              1      3     1      0        0\n",
      "                 SEA              0      2     0      0        0\n",
      "20020908_STL@DEN DEN              1      0     2      0        0\n",
      "                 STL              0      1     1      1        0\n",
      "...                             ...    ...   ...    ...      ...\n",
      "20121230_OAK@SD  OAK              1      3     3      3        0\n",
      "                 SD               1      1     0      0        0\n",
      "20121230_PHI@NYG NYG              2      0     2      3        0\n",
      "                 PHI              1      1     4      0        0\n",
      "20121230_STL@SEA SEA              2      0     4      2        0\n",
      "                 STL              0      1     0      1        0\n",
      "20121230_TB@ATL  ATL              1      1     0      1        0\n",
      "                 TB               1      2     3      1        0\n",
      "20130105_CIN@HOU CIN              0      0     0      1        0\n",
      "                 HOU              1      4     3      2        0\n",
      "20130105_MIN@GB  GB               0      0     2      2        0\n",
      "                 MIN              1      1     2      0        0\n",
      "20130106_IND@BAL BAL              0      1     1      2        0\n",
      "                 IND              2      1     3      3        0\n",
      "20130106_SEA@WAS SEA              1      1     2      2        0\n",
      "                 WAS              2      0     1      0        0\n",
      "20130112_BAL@DEN BAL              1      0     2      2        3\n",
      "                 DEN              3      1     2      1        2\n",
      "20130112_GB@SF   GB               2      1     1      2        0\n",
      "                 SF               4      3     1      0        0\n",
      "20130113_HOU@NE  HOU              0      1     1      2        0\n",
      "                 NE               0      3     1      3        0\n",
      "20130113_SEA@ATL ATL              3      3     2      0        0\n",
      "                 SEA              0      1     1      1        0\n",
      "20130120_BAL@NE  BAL              0      1     2      2        0\n",
      "                 NE               2      1     1      3        0\n",
      "20130120_SF@ATL  ATL              2      0     1      2        0\n",
      "                 SF               1      2     1      1        0\n",
      "20130203_BAL@SF  BAL              3      3     2      2        0\n",
      "                 SF               2      0     1      0        0\n",
      "\n",
      "[5252 rows x 5 columns]\n"
     ]
    }
   ],
   "source": [
    "QUARTER_FRAME = ONLY_SUCC.pivot_table(index=['gameid','off']\n",
    "                            ,columns=['qtr']\n",
    "                            ,values=['Successful_3rd']\n",
    "                            ,fill_value=0\n",
    "                            ,aggfunc='count').rename(columns={1:'First',2:'Second',3:'Third',4:'Fourth',5:'Overtime'})           \n",
    "                            \n",
    "print QUARTER_FRAME                           \n"
   ]
  },
  {
   "cell_type": "code",
   "execution_count": 50,
   "metadata": {},
   "outputs": [
    {
     "data": {
      "text/html": [
       "<div>\n",
       "<style>\n",
       "    .dataframe thead tr:only-child th {\n",
       "        text-align: right;\n",
       "    }\n",
       "\n",
       "    .dataframe thead th {\n",
       "        text-align: left;\n",
       "    }\n",
       "\n",
       "    .dataframe tbody tr th {\n",
       "        vertical-align: top;\n",
       "    }\n",
       "</style>\n",
       "<table border=\"1\" class=\"dataframe\">\n",
       "  <thead>\n",
       "    <tr style=\"text-align: right;\">\n",
       "      <th></th>\n",
       "      <th>qtr</th>\n",
       "      <th>First</th>\n",
       "      <th>Second</th>\n",
       "      <th>Third</th>\n",
       "      <th>Fourth</th>\n",
       "      <th>Overtime</th>\n",
       "    </tr>\n",
       "    <tr>\n",
       "      <th>gameid</th>\n",
       "      <th>off</th>\n",
       "      <th></th>\n",
       "      <th></th>\n",
       "      <th></th>\n",
       "      <th></th>\n",
       "      <th></th>\n",
       "    </tr>\n",
       "  </thead>\n",
       "  <tbody>\n",
       "    <tr>\n",
       "      <th rowspan=\"2\" valign=\"top\">20020905_SF@NYG</th>\n",
       "      <th>NYG</th>\n",
       "      <td>1</td>\n",
       "      <td>4</td>\n",
       "      <td>1</td>\n",
       "      <td>4</td>\n",
       "      <td>0</td>\n",
       "    </tr>\n",
       "    <tr>\n",
       "      <th>SF</th>\n",
       "      <td>1</td>\n",
       "      <td>2</td>\n",
       "      <td>1</td>\n",
       "      <td>0</td>\n",
       "      <td>0</td>\n",
       "    </tr>\n",
       "    <tr>\n",
       "      <th rowspan=\"2\" valign=\"top\">20020908_ARI@WAS</th>\n",
       "      <th>ARI</th>\n",
       "      <td>2</td>\n",
       "      <td>1</td>\n",
       "      <td>2</td>\n",
       "      <td>0</td>\n",
       "      <td>0</td>\n",
       "    </tr>\n",
       "    <tr>\n",
       "      <th>WAS</th>\n",
       "      <td>3</td>\n",
       "      <td>2</td>\n",
       "      <td>1</td>\n",
       "      <td>2</td>\n",
       "      <td>0</td>\n",
       "    </tr>\n",
       "    <tr>\n",
       "      <th>20020908_ATL@GB</th>\n",
       "      <th>ATL</th>\n",
       "      <td>0</td>\n",
       "      <td>1</td>\n",
       "      <td>3</td>\n",
       "      <td>1</td>\n",
       "      <td>0</td>\n",
       "    </tr>\n",
       "  </tbody>\n",
       "</table>\n",
       "</div>"
      ],
      "text/plain": [
       "qtr                   First  Second  Third  Fourth  Overtime\n",
       "gameid           off                                        \n",
       "20020905_SF@NYG  NYG      1       4      1       4         0\n",
       "                 SF       1       2      1       0         0\n",
       "20020908_ARI@WAS ARI      2       1      2       0         0\n",
       "                 WAS      3       2      1       2         0\n",
       "20020908_ATL@GB  ATL      0       1      3       1         0"
      ]
     },
     "execution_count": 50,
     "metadata": {},
     "output_type": "execute_result"
    }
   ],
   "source": [
    "QUARTER_FRAME[\"Successful_3rd\"].head()"
   ]
  },
  {
   "cell_type": "code",
   "execution_count": 65,
   "metadata": {},
   "outputs": [],
   "source": [
    "Game_abs_value = QUARTER_FRAME[\"Successful_3rd\"].Fourth + QUARTER_FRAME[\"Successful_3rd\"].Third + QUARTER_FRAME[\"Successful_3rd\"].Second + QUARTER_FRAME[\"Successful_3rd\"].First\n",
    "Game_total_delta = (QUARTER_FRAME[\"Successful_3rd\"].Fourth + QUARTER_FRAME[\"Successful_3rd\"].Third) - (QUARTER_FRAME[\"Successful_3rd\"].Second + QUARTER_FRAME[\"Successful_3rd\"].First) \n",
    "Game_coeff = (Game_total_delta / Game_abs_value) * 0.5\n",
    "                \n",
    "#print Game_coeff\n"
   ]
  },
  {
   "cell_type": "code",
   "execution_count": 66,
   "metadata": {},
   "outputs": [],
   "source": [
    "First_abs_value = QUARTER_FRAME[\"Successful_3rd\"].Second + QUARTER_FRAME[\"Successful_3rd\"].First\n",
    "First_total_delta = (QUARTER_FRAME[\"Successful_3rd\"].Second) - (QUARTER_FRAME[\"Successful_3rd\"].First) \n",
    "First_coeff = (First_total_delta / First_abs_value) * 0.25\n",
    "                \n",
    "#print First_coeff"
   ]
  },
  {
   "cell_type": "code",
   "execution_count": 67,
   "metadata": {},
   "outputs": [],
   "source": [
    "Second_abs_value = QUARTER_FRAME[\"Successful_3rd\"].Third + QUARTER_FRAME[\"Successful_3rd\"].Fourth\n",
    "Second_total_delta = (QUARTER_FRAME[\"Successful_3rd\"].Fourth) - (QUARTER_FRAME[\"Successful_3rd\"].Third) \n",
    "Second_coeff = (Second_total_delta / Second_abs_value) * 0.25\n",
    "                \n",
    "#print Second_coeff"
   ]
  },
  {
   "cell_type": "code",
   "execution_count": 82,
   "metadata": {},
   "outputs": [
    {
     "name": "stdout",
     "output_type": "stream",
     "text": [
      "Maximum Ranking 0.833\n",
      "Minimum Ranking -0.875\n",
      "Average Ranking 0.02\n",
      "Std. Deviation Ranking 0.297\n"
     ]
    }
   ],
   "source": [
    "Final_3rd_score = Game_coeff + First_coeff + Second_coeff\n",
    "print \"Maximum Ranking\", round(Final_3rd_score.max(),3)\n",
    "print \"Minimum Ranking\", round(Final_3rd_score.min(),3)\n",
    "print \"Average Ranking\", round(Final_3rd_score.mean(),3)\n",
    "print \"Std. Deviation Ranking\", round(Final_3rd_score.std(),3)"
   ]
  },
  {
   "cell_type": "code",
   "execution_count": null,
   "metadata": {
    "collapsed": true
   },
   "outputs": [],
   "source": []
  }
 ],
 "metadata": {
  "kernelspec": {
   "display_name": "Python 2",
   "language": "python",
   "name": "python2"
  },
  "language_info": {
   "codemirror_mode": {
    "name": "ipython",
    "version": 2
   },
   "file_extension": ".py",
   "mimetype": "text/x-python",
   "name": "python",
   "nbconvert_exporter": "python",
   "pygments_lexer": "ipython2",
   "version": "2.7.13"
  }
 },
 "nbformat": 4,
 "nbformat_minor": 2
}
